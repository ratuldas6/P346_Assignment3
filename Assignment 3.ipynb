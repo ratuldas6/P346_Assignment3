{
 "cells": [
  {
   "cell_type": "code",
   "execution_count": 1,
   "id": "2a3aaa49",
   "metadata": {},
   "outputs": [],
   "source": [
    "import mylibrary"
   ]
  },
  {
   "cell_type": "markdown",
   "id": "ca57b492",
   "metadata": {},
   "source": [
    "Question 1"
   ]
  },
  {
   "cell_type": "code",
   "execution_count": 2,
   "id": "08966385",
   "metadata": {},
   "outputs": [
    {
     "name": "stdout",
     "output_type": "stream",
     "text": [
      "The solution to the system of linear equations is:\n",
      "x = 2\n",
      "y = 0\n",
      "z = 6\n",
      "w = 5\n"
     ]
    }
   ],
   "source": [
    "X = []\n",
    "Y = []\n",
    "\n",
    "mat_a = open(\"a.txt\", \"r+\")\n",
    "#calling matrix from txt file\n",
    "\n",
    "for row in mat_a: \n",
    "    #matrix structure is applied\n",
    "    y = row.split()           \n",
    "    x = []\n",
    "    for i in range(len(y)-1):\n",
    "        x.append(float(y[i]))\n",
    "    X.append(x)\n",
    "    z = row.split()\n",
    "    Y.append(float(z[len(y)-1])) \n",
    "    \n",
    "print(\"The solution to the system of linear equations is:\")\n",
    "soln = mylibrary.applyGJ(X, Y)\n",
    "print(\"x = \" + str(mylibrary.integerRound(soln[0])))\n",
    "print(\"y = \" + str(mylibrary.integerRound(soln[1])))\n",
    "print(\"z = \" + str(mylibrary.integerRound(soln[2])))\n",
    "print(\"w = \" + str(mylibrary.integerRound(soln[3])))"
   ]
  },
  {
   "cell_type": "markdown",
   "id": "d19dcf2e",
   "metadata": {},
   "source": [
    "Question 2"
   ]
  },
  {
   "cell_type": "code",
   "execution_count": 3,
   "id": "5c8861d9",
   "metadata": {},
   "outputs": [
    {
     "name": "stdout",
     "output_type": "stream",
     "text": [
      "The solution to the system of linear equations is:\n",
      "x = 1\n",
      "y = -2\n",
      "z = -1\n"
     ]
    }
   ],
   "source": [
    "M = []\n",
    "N = []\n",
    "\n",
    "mat_b = open(\"b.txt\", \"r+\")\n",
    "#calling matrix from txt file\n",
    "\n",
    "for row in mat_b:\n",
    "    #matrix structure is applied\n",
    "    y = row.split()\n",
    "    x = []\n",
    "    for i in range(len(y)-1):\n",
    "        x.append(float(y[i]))\n",
    "    M.append(x)\n",
    "    z = row.split()\n",
    "    N.append(float(z[len(y)-1])) \n",
    "    \n",
    "print(\"The solution to the system of linear equations is:\")\n",
    "soln_2 = mylibrary.applyGJ(M, N)\n",
    "print(\"x = \" + str(mylibrary.integerRound(soln_2[0])))\n",
    "print(\"y = \" + str(mylibrary.integerRound(soln_2[1])))\n",
    "print(\"z = \" + str(mylibrary.integerRound(soln_2[2])))"
   ]
  },
  {
   "cell_type": "markdown",
   "id": "8a2577e7",
   "metadata": {},
   "source": [
    "Question 3"
   ]
  },
  {
   "cell_type": "code",
   "execution_count": 4,
   "id": "374d8df6",
   "metadata": {},
   "outputs": [
    {
     "name": "stdout",
     "output_type": "stream",
     "text": [
      "Inverse of the matrix is: \n",
      "[-0.33, 0.33, 0.33]\n",
      "[-0.17, 0.17, 0.67]\n",
      "[1.33, -0.33, -1.33]\n"
     ]
    }
   ],
   "source": [
    "Q = []\n",
    "\n",
    "mat_c = open(\"c.txt\", \"r+\")\n",
    "#calling matrix from txt file\n",
    "\n",
    "for row in mat_c:\n",
    "    x = row.split()\n",
    "    y = []\n",
    "    for i in range(len(x)):\n",
    "        y.append(float(x[i]))\n",
    "    Q.append(y)\n",
    "\n",
    "print(\"Inverse of the matrix is: \")\n",
    "Q_inv = mylibrary.inverseMatrix(Q)\n",
    "mylibrary.displayMatrix(Q_inv)"
   ]
  },
  {
   "cell_type": "code",
   "execution_count": 5,
   "id": "a713c0cc",
   "metadata": {},
   "outputs": [
    {
     "name": "stdout",
     "output_type": "stream",
     "text": [
      "[0.0, 2.0, 1.0]\n",
      "[4.0, 0.0, 1.0]\n",
      "[-1.0, 2.0, 0.0]\n",
      "[-0.33, 0.33, 0.33]\n",
      "[-0.17, 0.17, 0.67]\n",
      "[1.33, -0.33, -1.33]\n",
      "[1.0, 0.0, 0.0]\n",
      "[0.0, 1.0, 0.0]\n",
      "[0.0, 0.0, 1.0]\n"
     ]
    }
   ],
   "source": [
    "#we check the product of Q and Q_inv\n",
    "Q_orig = []\n",
    "mat_c_new = open(\"c.txt\", \"r+\")\n",
    "\n",
    "for row in mat_c_new:\n",
    "    x = row.split()\n",
    "    y = []\n",
    "    for i in range(len(x)):\n",
    "        y.append(float(x[i]))\n",
    "    Q_orig.append(y)\n",
    "\n",
    "mylibrary.displayMatrix(Q_orig)\n",
    "mylibrary.displayMatrix(Q_inv)\n",
    "\n",
    "mylibrary.productMatrix(Q_orig, Q_inv)\n",
    "#this should return the identity matrix\n",
    "#since we know that Q.Q^(-1) should be I"
   ]
  },
  {
   "cell_type": "markdown",
   "id": "e57ff898",
   "metadata": {},
   "source": [
    "Question 4"
   ]
  },
  {
   "cell_type": "code",
   "execution_count": 7,
   "id": "42b7abc8",
   "metadata": {},
   "outputs": [
    {
     "name": "stdout",
     "output_type": "stream",
     "text": [
      "Determinant of given matrix is:\n",
      "65.0\n"
     ]
    }
   ],
   "source": [
    "S = []\n",
    "mat_d = open(\"d.txt\", \"r+\")               #opening the matrix m_4.\n",
    "\n",
    "for value in mat_d:\n",
    "    x = value.split()                   #splitting/seperating the matrix.\n",
    "    y = []\n",
    "    for i in range(len(x)):\n",
    "        y.append(float(x[i]))           #float allows decimal values.\n",
    "    S.append(y)\n",
    "\n",
    "print(\"Determinant of given matrix is:\")       \n",
    "mylibrary.findDeterminant(S)"
   ]
  }
 ],
 "metadata": {
  "kernelspec": {
   "display_name": "Python 3",
   "language": "python",
   "name": "python3"
  },
  "language_info": {
   "codemirror_mode": {
    "name": "ipython",
    "version": 3
   },
   "file_extension": ".py",
   "mimetype": "text/x-python",
   "name": "python",
   "nbconvert_exporter": "python",
   "pygments_lexer": "ipython3",
   "version": "3.7.10"
  }
 },
 "nbformat": 4,
 "nbformat_minor": 5
}
